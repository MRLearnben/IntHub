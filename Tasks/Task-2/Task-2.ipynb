{
 "cells": [
  {
   "cell_type": "markdown",
   "id": "b0b72b91",
   "metadata": {},
   "source": [
    "# Task-2"
   ]
  },
  {
   "cell_type": "markdown",
   "id": "17f912c5",
   "metadata": {},
   "source": [
    "1) You have to given a String and you have to swap that String In Other words Convert all the lowercase letter into Uppercase letter vice versa"
   ]
  },
  {
   "cell_type": "code",
   "execution_count": 2,
   "id": "6bdcc702",
   "metadata": {},
   "outputs": [
    {
     "name": "stdout",
     "output_type": "stream",
     "text": [
      "Hello Code Family\n",
      "hELLO cODE fAMILY\n"
     ]
    }
   ],
   "source": [
    "# get the input string\n",
    "input_str = input()\n",
    "\n",
    "# initialize an empty string to store the swapped string\n",
    "swapped_str = \"\"\n",
    "\n",
    "# loop through each character in the input string\n",
    "for char in input_str:\n",
    "    # check if the character is lowercase\n",
    "    if char.islower():\n",
    "        # convert lowercase to uppercase\n",
    "        swapped_str += char.upper()\n",
    "    # check if the character is uppercase\n",
    "    elif char.isupper():\n",
    "        # convert uppercase to lowercase\n",
    "        swapped_str += char.lower()\n",
    "    else:\n",
    "        # add non-alphabetic characters as is\n",
    "        swapped_str += char\n",
    "\n",
    "# print the swapped string\n",
    "print(swapped_str)\n"
   ]
  },
  {
   "cell_type": "markdown",
   "id": "42aedad2",
   "metadata": {},
   "source": [
    "2) You have to given s String and you have to capitalise first two character  of the string\n",
    "Given a full name and you to capitalise the name appropriately\n"
   ]
  },
  {
   "cell_type": "code",
   "execution_count": 3,
   "id": "ef63321c",
   "metadata": {},
   "outputs": [
    {
     "name": "stdout",
     "output_type": "stream",
     "text": [
      "Enter a string: John bob\n",
      "JOhn BOb\n"
     ]
    }
   ],
   "source": [
    "string = input(\"Enter a string: \")\n",
    "\n",
    "# split the string into words\n",
    "words = string.split()\n",
    "\n",
    "# capitalize the first two characters of the first two words\n",
    "if len(words) >= 2:\n",
    "    words[0] = words[0][:2].upper() + words[0][2:]\n",
    "    words[1] = words[1][:2].upper() + words[1][2:]\n",
    "\n",
    "# join the words back into a string\n",
    "result = \" \".join(words)\n",
    "\n",
    "print(result)"
   ]
  },
  {
   "cell_type": "markdown",
   "id": "9e8742cc",
   "metadata": {},
   "source": [
    "3) You have to given a information about N people.Each person has name .last name ,age,sex,city .Print their names in a specific format in descending order i.e the elder person name should br first printed,iFor the two people of the sane age print theri in orderof input.\n"
   ]
  },
  {
   "cell_type": "code",
   "execution_count": 1,
   "id": "61b9b9f2",
   "metadata": {},
   "outputs": [
    {
     "name": "stdout",
     "output_type": "stream",
     "text": [
      "Enter the number of people: 3\n",
      "\n",
      "Enter information for person 1:\n",
      "Enter first name: deepak\n",
      "Enter last name: chinnasamy\n",
      "Enter age: 20\n",
      "Enter sex (M/F): m\n",
      "Enter city: rajapalayam\n",
      "\n",
      "Enter information for person 2:\n",
      "Enter first name: sanjay\n",
      "Enter last name: kumar\n",
      "Enter age: 20\n",
      "Enter sex (M/F): m\n",
      "Enter city: palani\n",
      "\n",
      "Enter information for person 3:\n",
      "Enter first name: arputharaj\n",
      "Enter last name: appu\n",
      "Enter age: 20\n",
      "Enter sex (M/F): m\n",
      "Enter city: karumathampatti\n",
      "\n",
      "Sorted names:\n",
      "arputharaj appu, 20, m, karumathampatti\n",
      "deepak chinnasamy, 20, m, rajapalayam\n",
      "sanjay kumar, 20, m, palani\n"
     ]
    }
   ],
   "source": [
    "n = int(input(\"Enter the number of people: \"))\n",
    "\n",
    "# create a list to store the information about each person\n",
    "people = []\n",
    "\n",
    "# get the information about each person\n",
    "for i in range(n):\n",
    "    print(f\"\\nEnter information for person {i+1}:\")\n",
    "    name = input(\"Enter first name: \")\n",
    "    last_name = input(\"Enter last name: \")\n",
    "    age = int(input(\"Enter age: \"))\n",
    "    sex = input(\"Enter sex (M/F): \")\n",
    "    city = input(\"Enter city: \")\n",
    "    people.append((name, last_name, age, sex, city))\n",
    "\n",
    "# sort the list of people by age in descending order\n",
    "people.sort(key=lambda x: (-x[2], x[0]))\n",
    "\n",
    "# print the names of the people in the desired format\n",
    "print(\"\\nSorted names:\")\n",
    "for person in people:\n",
    "    print(f\"{person[0]} {person[1]}, {person[2]}, {person[3]}, {person[4]}\")\n"
   ]
  },
  {
   "cell_type": "code",
   "execution_count": null,
   "id": "3825afb4",
   "metadata": {},
   "outputs": [],
   "source": []
  }
 ],
 "metadata": {
  "kernelspec": {
   "display_name": "Python 3 (ipykernel)",
   "language": "python",
   "name": "python3"
  },
  "language_info": {
   "codemirror_mode": {
    "name": "ipython",
    "version": 3
   },
   "file_extension": ".py",
   "mimetype": "text/x-python",
   "name": "python",
   "nbconvert_exporter": "python",
   "pygments_lexer": "ipython3",
   "version": "3.9.7"
  }
 },
 "nbformat": 4,
 "nbformat_minor": 5
}
